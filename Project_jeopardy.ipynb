{
 "cells": [
  {
   "cell_type": "markdown",
   "metadata": {},
   "source": [
    "## Project Jeopardy:\n",
    "\n",
    "This project was supposed to provide a statistical analysis of the most efficient jeopardy questions to study. Unfortunately this Project was a complete disaster. In general the DataQuest projects set problems to solve and expect the student to come up with the solution. In this project the instructions just contained the solution point by point. This means the student was never challenged or forced to come up with their own solution. So unfortunately the the educational benefit was very limited. This project is only on my Github for completeness' sake. There is also the possibility that I will re-visit this project at some point."
   ]
  },
  {
   "cell_type": "code",
   "execution_count": 1,
   "metadata": {},
   "outputs": [],
   "source": [
    "# imports\n",
    "import pandas as pd\n",
    "import numpy as np\n",
    "import matplotlib.pyplot as plt\n",
    "%matplotlib inline\n",
    "jeopardy = pd.read_csv('jeopardy.csv')\n",
    "pd.set_option.max_colwidth = 200"
   ]
  },
  {
   "cell_type": "markdown",
   "metadata": {},
   "source": [
    "## Data Cleaning"
   ]
  },
  {
   "cell_type": "code",
   "execution_count": 2,
   "metadata": {},
   "outputs": [
    {
     "name": "stdout",
     "output_type": "stream",
     "text": [
      "Index(['Show Number', ' Air Date', ' Round', ' Category', ' Value',\n",
      "       ' Question', ' Answer'],\n",
      "      dtype='object')\n"
     ]
    }
   ],
   "source": [
    "print(jeopardy.columns)"
   ]
  },
  {
   "cell_type": "markdown",
   "metadata": {},
   "source": [
    "The column names have spaces in them and are capitalized. In order to make them easier to work with. This will be changed"
   ]
  },
  {
   "cell_type": "code",
   "execution_count": 3,
   "metadata": {},
   "outputs": [
    {
     "name": "stdout",
     "output_type": "stream",
     "text": [
      "Index(['shownumber', 'airdate', 'round', 'category', 'value', 'question',\n",
      "       'answer'],\n",
      "      dtype='object')\n"
     ]
    }
   ],
   "source": [
    "jeopardy.columns = jeopardy.columns.str.replace('\\s', '').str.lower()\n",
    "print(jeopardy.columns)"
   ]
  },
  {
   "cell_type": "code",
   "execution_count": 4,
   "metadata": {},
   "outputs": [
    {
     "data": {
      "text/html": [
       "<div>\n",
       "<style scoped>\n",
       "    .dataframe tbody tr th:only-of-type {\n",
       "        vertical-align: middle;\n",
       "    }\n",
       "\n",
       "    .dataframe tbody tr th {\n",
       "        vertical-align: top;\n",
       "    }\n",
       "\n",
       "    .dataframe thead th {\n",
       "        text-align: right;\n",
       "    }\n",
       "</style>\n",
       "<table border=\"1\" class=\"dataframe\">\n",
       "  <thead>\n",
       "    <tr style=\"text-align: right;\">\n",
       "      <th></th>\n",
       "      <th>shownumber</th>\n",
       "      <th>airdate</th>\n",
       "      <th>round</th>\n",
       "      <th>category</th>\n",
       "      <th>value</th>\n",
       "      <th>question</th>\n",
       "      <th>answer</th>\n",
       "    </tr>\n",
       "  </thead>\n",
       "  <tbody>\n",
       "    <tr>\n",
       "      <th>0</th>\n",
       "      <td>4680</td>\n",
       "      <td>2004-12-31</td>\n",
       "      <td>Jeopardy!</td>\n",
       "      <td>HISTORY</td>\n",
       "      <td>$200</td>\n",
       "      <td>For the last 8 years of his life, Galileo was ...</td>\n",
       "      <td>Copernicus</td>\n",
       "    </tr>\n",
       "    <tr>\n",
       "      <th>1</th>\n",
       "      <td>4680</td>\n",
       "      <td>2004-12-31</td>\n",
       "      <td>Jeopardy!</td>\n",
       "      <td>ESPN's TOP 10 ALL-TIME ATHLETES</td>\n",
       "      <td>$200</td>\n",
       "      <td>No. 2: 1912 Olympian; football star at Carlisl...</td>\n",
       "      <td>Jim Thorpe</td>\n",
       "    </tr>\n",
       "    <tr>\n",
       "      <th>2</th>\n",
       "      <td>4680</td>\n",
       "      <td>2004-12-31</td>\n",
       "      <td>Jeopardy!</td>\n",
       "      <td>EVERYBODY TALKS ABOUT IT...</td>\n",
       "      <td>$200</td>\n",
       "      <td>The city of Yuma in this state has a record av...</td>\n",
       "      <td>Arizona</td>\n",
       "    </tr>\n",
       "  </tbody>\n",
       "</table>\n",
       "</div>"
      ],
      "text/plain": [
       "   shownumber     airdate      round                         category value  \\\n",
       "0        4680  2004-12-31  Jeopardy!                          HISTORY  $200   \n",
       "1        4680  2004-12-31  Jeopardy!  ESPN's TOP 10 ALL-TIME ATHLETES  $200   \n",
       "2        4680  2004-12-31  Jeopardy!      EVERYBODY TALKS ABOUT IT...  $200   \n",
       "\n",
       "                                            question      answer  \n",
       "0  For the last 8 years of his life, Galileo was ...  Copernicus  \n",
       "1  No. 2: 1912 Olympian; football star at Carlisl...  Jim Thorpe  \n",
       "2  The city of Yuma in this state has a record av...     Arizona  "
      ]
     },
     "execution_count": 4,
     "metadata": {},
     "output_type": "execute_result"
    }
   ],
   "source": [
    "jeopardy.head(3)"
   ]
  },
  {
   "cell_type": "markdown",
   "metadata": {},
   "source": [
    "Next the `answer` and `question` columns will be normalized. To do this all words will be made lower case and the punctuation will be removed.  The easiest way to achieve this is to use Pandas' .str.replace and .str.lower methods."
   ]
  },
  {
   "cell_type": "code",
   "execution_count": 5,
   "metadata": {},
   "outputs": [],
   "source": [
    "jeopardy['clean_question'] = jeopardy['question'].str.lower().str.replace('[^\\s\\w\\d]', '')\n",
    "jeopardy['clean_answer'] = jeopardy['answer'].str.lower().str.replace('[^\\s\\w\\d]', '')"
   ]
  },
  {
   "cell_type": "code",
   "execution_count": 6,
   "metadata": {},
   "outputs": [
    {
     "data": {
      "text/html": [
       "<div>\n",
       "<style scoped>\n",
       "    .dataframe tbody tr th:only-of-type {\n",
       "        vertical-align: middle;\n",
       "    }\n",
       "\n",
       "    .dataframe tbody tr th {\n",
       "        vertical-align: top;\n",
       "    }\n",
       "\n",
       "    .dataframe thead th {\n",
       "        text-align: right;\n",
       "    }\n",
       "</style>\n",
       "<table border=\"1\" class=\"dataframe\">\n",
       "  <thead>\n",
       "    <tr style=\"text-align: right;\">\n",
       "      <th></th>\n",
       "      <th>clean_question</th>\n",
       "      <th>clean_answer</th>\n",
       "    </tr>\n",
       "  </thead>\n",
       "  <tbody>\n",
       "    <tr>\n",
       "      <th>0</th>\n",
       "      <td>for the last 8 years of his life galileo was u...</td>\n",
       "      <td>copernicus</td>\n",
       "    </tr>\n",
       "    <tr>\n",
       "      <th>1</th>\n",
       "      <td>no 2 1912 olympian football star at carlisle i...</td>\n",
       "      <td>jim thorpe</td>\n",
       "    </tr>\n",
       "    <tr>\n",
       "      <th>2</th>\n",
       "      <td>the city of yuma in this state has a record av...</td>\n",
       "      <td>arizona</td>\n",
       "    </tr>\n",
       "    <tr>\n",
       "      <th>3</th>\n",
       "      <td>in 1963 live on the art linkletter show this c...</td>\n",
       "      <td>mcdonalds</td>\n",
       "    </tr>\n",
       "    <tr>\n",
       "      <th>4</th>\n",
       "      <td>signer of the dec of indep framer of the const...</td>\n",
       "      <td>john adams</td>\n",
       "    </tr>\n",
       "    <tr>\n",
       "      <th>...</th>\n",
       "      <td>...</td>\n",
       "      <td>...</td>\n",
       "    </tr>\n",
       "    <tr>\n",
       "      <th>19994</th>\n",
       "      <td>of 8 12 or 18 the number of us states that tou...</td>\n",
       "      <td>18</td>\n",
       "    </tr>\n",
       "    <tr>\n",
       "      <th>19995</th>\n",
       "      <td>the new power generation</td>\n",
       "      <td>prince</td>\n",
       "    </tr>\n",
       "    <tr>\n",
       "      <th>19996</th>\n",
       "      <td>in 1589 he was appointed professor of mathemat...</td>\n",
       "      <td>galileo</td>\n",
       "    </tr>\n",
       "    <tr>\n",
       "      <th>19997</th>\n",
       "      <td>before the grand jury she said im really sorry...</td>\n",
       "      <td>monica lewinsky</td>\n",
       "    </tr>\n",
       "    <tr>\n",
       "      <th>19998</th>\n",
       "      <td>llamas are the heftiest south american members...</td>\n",
       "      <td>camels</td>\n",
       "    </tr>\n",
       "  </tbody>\n",
       "</table>\n",
       "<p>19999 rows × 2 columns</p>\n",
       "</div>"
      ],
      "text/plain": [
       "                                          clean_question     clean_answer\n",
       "0      for the last 8 years of his life galileo was u...       copernicus\n",
       "1      no 2 1912 olympian football star at carlisle i...       jim thorpe\n",
       "2      the city of yuma in this state has a record av...          arizona\n",
       "3      in 1963 live on the art linkletter show this c...        mcdonalds\n",
       "4      signer of the dec of indep framer of the const...       john adams\n",
       "...                                                  ...              ...\n",
       "19994  of 8 12 or 18 the number of us states that tou...               18\n",
       "19995                           the new power generation           prince\n",
       "19996  in 1589 he was appointed professor of mathemat...          galileo\n",
       "19997  before the grand jury she said im really sorry...  monica lewinsky\n",
       "19998  llamas are the heftiest south american members...           camels\n",
       "\n",
       "[19999 rows x 2 columns]"
      ]
     },
     "execution_count": 6,
     "metadata": {},
     "output_type": "execute_result"
    }
   ],
   "source": [
    "jeopardy[['clean_question', 'clean_answer']]"
   ]
  },
  {
   "cell_type": "markdown",
   "metadata": {},
   "source": [
    "Next the `values` column will be normalized, to be of the int type. NaN values will be replaced with 0"
   ]
  },
  {
   "cell_type": "code",
   "execution_count": 11,
   "metadata": {},
   "outputs": [],
   "source": [
    "values = jeopardy.value.str.extract('(\\d+)', expand = False)\n",
    "values[values.isna()] = 0\n",
    "values = values.astype(int)\n",
    "jeopardy['clean_values'] = values"
   ]
  },
  {
   "cell_type": "code",
   "execution_count": 12,
   "metadata": {},
   "outputs": [
    {
     "data": {
      "text/plain": [
       "dtype('int32')"
      ]
     },
     "execution_count": 12,
     "metadata": {},
     "output_type": "execute_result"
    }
   ],
   "source": [
    "jeopardy.clean_values.dtype"
   ]
  },
  {
   "cell_type": "code",
   "execution_count": 15,
   "metadata": {},
   "outputs": [
    {
     "data": {
      "text/plain": [
       "0        2004-12-31\n",
       "1        2004-12-31\n",
       "2        2004-12-31\n",
       "3        2004-12-31\n",
       "4        2004-12-31\n",
       "            ...    \n",
       "19994    2000-03-14\n",
       "19995    2000-03-14\n",
       "19996    2000-03-14\n",
       "19997    2000-03-14\n",
       "19998    2000-03-14\n",
       "Name: airdate, Length: 19999, dtype: object"
      ]
     },
     "execution_count": 15,
     "metadata": {},
     "output_type": "execute_result"
    }
   ],
   "source": [
    "jeopardy.airdate"
   ]
  },
  {
   "cell_type": "markdown",
   "metadata": {},
   "source": [
    "The `airdate` column is saved as a string. Transforming it into datetime format will make it easier to work with, because the `datetime` module contains many useful methods"
   ]
  },
  {
   "cell_type": "code",
   "execution_count": 16,
   "metadata": {},
   "outputs": [],
   "source": [
    "jeopardy['airdate_clean'] = pd.to_datetime(jeopardy.airdate)"
   ]
  },
  {
   "cell_type": "code",
   "execution_count": 17,
   "metadata": {},
   "outputs": [
    {
     "data": {
      "text/plain": [
       "dtype('<M8[ns]')"
      ]
     },
     "execution_count": 17,
     "metadata": {},
     "output_type": "execute_result"
    }
   ],
   "source": [
    "jeopardy.airdate_clean.dtype"
   ]
  },
  {
   "cell_type": "markdown",
   "metadata": {},
   "source": [
    "## Data Analysis"
   ]
  },
  {
   "cell_type": "markdown",
   "metadata": {},
   "source": [
    "We will now find out if there are questions, that include parts of their answer in the question."
   ]
  },
  {
   "cell_type": "code",
   "execution_count": 18,
   "metadata": {},
   "outputs": [],
   "source": [
    "def reoccurence(row):\n",
    "    '''Calculate the ratio of words (excluding filler words) that occur both in a question and its answer\n",
    "    Args:\n",
    "        row (int): index of the row to analyze\n",
    "    Returns:\n",
    "        float: ratio of words that occur in both the question and its answer\n",
    "    '''\n",
    "    split_answer = row.clean_answer.split()\n",
    "    split_question = row.clean_question.split()\n",
    "    match_count = 0\n",
    "    for item in ['the', 'or', '&', 'a', 'of']:\n",
    "            if item in split_answer:\n",
    "                split_answer.remove(item)\n",
    "    for item in ['the', 'or', '&', 'a', 'of']:\n",
    "            if item in split_question:\n",
    "                split_question.remove(item)\n",
    "    if len(split_answer) == 0:\n",
    "        return 0\n",
    "    \n",
    "    for word in split_answer: \n",
    "        if word in split_question:\n",
    "            match_count += 1\n",
    "    \n",
    "    return(match_count / len(split_answer))\n",
    "jeopardy['answer_in_question'] = jeopardy.apply(reoccurence, axis = 1)\n",
    "# jeopardy.iloc[8:10].apply(reoccurence, axis = 1)"
   ]
  },
  {
   "cell_type": "code",
   "execution_count": 19,
   "metadata": {},
   "outputs": [
    {
     "data": {
      "text/plain": [
       "4.108361613493449"
      ]
     },
     "execution_count": 19,
     "metadata": {},
     "output_type": "execute_result"
    }
   ],
   "source": [
    "jeopardy.answer_in_question.mean()*100"
   ]
  },
  {
   "cell_type": "markdown",
   "metadata": {},
   "source": [
    "About 4% of words in the answer appear in the corresponding question"
   ]
  },
  {
   "cell_type": "code",
   "execution_count": 20,
   "metadata": {},
   "outputs": [
    {
     "data": {
      "text/html": [
       "<div>\n",
       "<style scoped>\n",
       "    .dataframe tbody tr th:only-of-type {\n",
       "        vertical-align: middle;\n",
       "    }\n",
       "\n",
       "    .dataframe tbody tr th {\n",
       "        vertical-align: top;\n",
       "    }\n",
       "\n",
       "    .dataframe thead th {\n",
       "        text-align: right;\n",
       "    }\n",
       "</style>\n",
       "<table border=\"1\" class=\"dataframe\">\n",
       "  <thead>\n",
       "    <tr style=\"text-align: right;\">\n",
       "      <th></th>\n",
       "      <th>question</th>\n",
       "      <th>answer</th>\n",
       "      <th>answer_in_question</th>\n",
       "    </tr>\n",
       "  </thead>\n",
       "  <tbody>\n",
       "    <tr>\n",
       "      <th>14</th>\n",
       "      <td>On June 28, 1994 the nat'l weather service beg...</td>\n",
       "      <td>the UV index</td>\n",
       "      <td>0.500000</td>\n",
       "    </tr>\n",
       "    <tr>\n",
       "      <th>24</th>\n",
       "      <td>This Asian political party was founded in 1885...</td>\n",
       "      <td>the Congress Party</td>\n",
       "      <td>0.500000</td>\n",
       "    </tr>\n",
       "    <tr>\n",
       "      <th>38</th>\n",
       "      <td>During the 1954-1955 Sun sessions, Elvis climb...</td>\n",
       "      <td>the \"Mystery Train\"</td>\n",
       "      <td>0.500000</td>\n",
       "    </tr>\n",
       "    <tr>\n",
       "      <th>53</th>\n",
       "      <td>In 1961 James Brown announced \"all aboard\" for...</td>\n",
       "      <td>\"Night Train\"</td>\n",
       "      <td>0.500000</td>\n",
       "    </tr>\n",
       "    <tr>\n",
       "      <th>68</th>\n",
       "      <td>This island in the South Pacific is named for ...</td>\n",
       "      <td>Easter Island</td>\n",
       "      <td>0.500000</td>\n",
       "    </tr>\n",
       "    <tr>\n",
       "      <th>...</th>\n",
       "      <td>...</td>\n",
       "      <td>...</td>\n",
       "      <td>...</td>\n",
       "    </tr>\n",
       "    <tr>\n",
       "      <th>19951</th>\n",
       "      <td>The name of this Jamaican bay is from the Span...</td>\n",
       "      <td>Montego (Bay)</td>\n",
       "      <td>0.500000</td>\n",
       "    </tr>\n",
       "    <tr>\n",
       "      <th>19963</th>\n",
       "      <td>African Americans, 13% of the U.S., were nearl...</td>\n",
       "      <td>the First Gulf War</td>\n",
       "      <td>0.333333</td>\n",
       "    </tr>\n",
       "    <tr>\n",
       "      <th>19974</th>\n",
       "      <td>Langdon in \"Angels &amp; Demons\" is looking for &lt;a...</td>\n",
       "      <td>an antimatter bomb</td>\n",
       "      <td>0.333333</td>\n",
       "    </tr>\n",
       "    <tr>\n",
       "      <th>19981</th>\n",
       "      <td>In 1899 Secretary of State John Hay proclaimed...</td>\n",
       "      <td>open-door policy</td>\n",
       "      <td>0.500000</td>\n",
       "    </tr>\n",
       "    <tr>\n",
       "      <th>19994</th>\n",
       "      <td>Of 8, 12 or 18, the number of U.S. states that...</td>\n",
       "      <td>18</td>\n",
       "      <td>1.000000</td>\n",
       "    </tr>\n",
       "  </tbody>\n",
       "</table>\n",
       "<p>1676 rows × 3 columns</p>\n",
       "</div>"
      ],
      "text/plain": [
       "                                                question               answer  \\\n",
       "14     On June 28, 1994 the nat'l weather service beg...         the UV index   \n",
       "24     This Asian political party was founded in 1885...   the Congress Party   \n",
       "38     During the 1954-1955 Sun sessions, Elvis climb...  the \"Mystery Train\"   \n",
       "53     In 1961 James Brown announced \"all aboard\" for...        \"Night Train\"   \n",
       "68     This island in the South Pacific is named for ...        Easter Island   \n",
       "...                                                  ...                  ...   \n",
       "19951  The name of this Jamaican bay is from the Span...        Montego (Bay)   \n",
       "19963  African Americans, 13% of the U.S., were nearl...   the First Gulf War   \n",
       "19974  Langdon in \"Angels & Demons\" is looking for <a...   an antimatter bomb   \n",
       "19981  In 1899 Secretary of State John Hay proclaimed...     open-door policy   \n",
       "19994  Of 8, 12 or 18, the number of U.S. states that...                   18   \n",
       "\n",
       "       answer_in_question  \n",
       "14               0.500000  \n",
       "24               0.500000  \n",
       "38               0.500000  \n",
       "53               0.500000  \n",
       "68               0.500000  \n",
       "...                   ...  \n",
       "19951            0.500000  \n",
       "19963            0.333333  \n",
       "19974            0.333333  \n",
       "19981            0.500000  \n",
       "19994            1.000000  \n",
       "\n",
       "[1676 rows x 3 columns]"
      ]
     },
     "execution_count": 20,
     "metadata": {},
     "output_type": "execute_result"
    }
   ],
   "source": [
    "jeopardy.loc[jeopardy.answer_in_question != 0, ['question', 'answer','answer_in_question']]"
   ]
  },
  {
   "cell_type": "markdown",
   "metadata": {},
   "source": [
    "This doesn't seem very helpful when studying to win jeopardy."
   ]
  },
  {
   "cell_type": "markdown",
   "metadata": {},
   "source": [
    "The next question to answer is how often subjects are re-used. To get an idea of this figure, the ratio of re-used words with at least 6 letters will be calculated:"
   ]
  },
  {
   "cell_type": "code",
   "execution_count": 21,
   "metadata": {},
   "outputs": [],
   "source": [
    "question_overlap = []\n",
    "terms_used = set()\n",
    "jeopardy = jeopardy.sort_values('airdate_clean', ascending = False)\n",
    "for i, row in jeopardy.iterrows():\n",
    "    match_count = 0\n",
    "    split_question = row.clean_question.split()\n",
    "    split_question = [q for q in split_question if len(q) > 5]\n",
    "\n",
    "    for item in split_question:\n",
    "        if item in terms_used:\n",
    "            match_count += 1\n",
    "    for item in split_question:\n",
    "        terms_used.add(item)\n",
    "    if len(split_question) > 0:\n",
    "        match_count /= len(split_question)\n",
    "    question_overlap.append(match_count)\n",
    "jeopardy['question_overlap'] = question_overlap   \n",
    "terms_list = list(terms_used)\n",
    "question_overlap = []\n",
    "terms_used = set()    "
   ]
  },
  {
   "cell_type": "code",
   "execution_count": 22,
   "metadata": {},
   "outputs": [
    {
     "name": "stdout",
     "output_type": "stream",
     "text": [
      "0.6945657437055904\n"
     ]
    }
   ],
   "source": [
    "print(jeopardy.question_overlap.mean())"
   ]
  },
  {
   "cell_type": "markdown",
   "metadata": {
    "collapsed": true
   },
   "source": [
    "About 70% of all words with 6 or more letters are re-used in the jeopardy questions. This implies that studying the subjects in previous questions could be a useful technique when preparing to go on the show."
   ]
  },
  {
   "cell_type": "markdown",
   "metadata": {},
   "source": [
    "Splitting up the questions according to difficulty. In order to do this, the questions that are worth at least $800 and those that are worth less will be separated into two different datasets."
   ]
  },
  {
   "cell_type": "code",
   "execution_count": 26,
   "metadata": {},
   "outputs": [],
   "source": [
    "jeopardy.loc[jeopardy.clean_values >= 800,'high_value'] = 1\n",
    "jeopardy.loc[jeopardy.clean_values < 800,'high_value'] = 0"
   ]
  },
  {
   "cell_type": "code",
   "execution_count": 27,
   "metadata": {},
   "outputs": [
    {
     "data": {
      "text/html": [
       "<div>\n",
       "<style scoped>\n",
       "    .dataframe tbody tr th:only-of-type {\n",
       "        vertical-align: middle;\n",
       "    }\n",
       "\n",
       "    .dataframe tbody tr th {\n",
       "        vertical-align: top;\n",
       "    }\n",
       "\n",
       "    .dataframe thead th {\n",
       "        text-align: right;\n",
       "    }\n",
       "</style>\n",
       "<table border=\"1\" class=\"dataframe\">\n",
       "  <thead>\n",
       "    <tr style=\"text-align: right;\">\n",
       "      <th></th>\n",
       "      <th>value</th>\n",
       "      <th>high_value</th>\n",
       "    </tr>\n",
       "  </thead>\n",
       "  <tbody>\n",
       "    <tr>\n",
       "      <th>1931</th>\n",
       "      <td>$600</td>\n",
       "      <td>0.0</td>\n",
       "    </tr>\n",
       "    <tr>\n",
       "      <th>1936</th>\n",
       "      <td>$800</td>\n",
       "      <td>1.0</td>\n",
       "    </tr>\n",
       "    <tr>\n",
       "      <th>1947</th>\n",
       "      <td>$400</td>\n",
       "      <td>0.0</td>\n",
       "    </tr>\n",
       "    <tr>\n",
       "      <th>1946</th>\n",
       "      <td>$400</td>\n",
       "      <td>0.0</td>\n",
       "    </tr>\n",
       "    <tr>\n",
       "      <th>1945</th>\n",
       "      <td>$400</td>\n",
       "      <td>0.0</td>\n",
       "    </tr>\n",
       "  </tbody>\n",
       "</table>\n",
       "</div>"
      ],
      "text/plain": [
       "     value  high_value\n",
       "1931  $600         0.0\n",
       "1936  $800         1.0\n",
       "1947  $400         0.0\n",
       "1946  $400         0.0\n",
       "1945  $400         0.0"
      ]
     },
     "execution_count": 27,
     "metadata": {},
     "output_type": "execute_result"
    }
   ],
   "source": [
    "jeopardy[['value', 'high_value']].head()"
   ]
  },
  {
   "cell_type": "markdown",
   "metadata": {},
   "source": [
    "Turning the questions and answers into lists of words:"
   ]
  },
  {
   "cell_type": "code",
   "execution_count": 28,
   "metadata": {},
   "outputs": [],
   "source": [
    "jeopardy['split_question'] = jeopardy.clean_question.str.split()\n",
    "jeopardy['split_answer'] = jeopardy.clean_answer.str.split()"
   ]
  },
  {
   "cell_type": "code",
   "execution_count": 29,
   "metadata": {
    "scrolled": true
   },
   "outputs": [
    {
     "name": "stdout",
     "output_type": "stream",
     "text": [
      "1931    [this, singer, of, jack, diane, had, to, fight...\n",
      "1936    [this, chilean, city, whose, name, means, vall...\n",
      "1947    [the, british, a22, mark, iv, tank, carried, a...\n",
      "1946    [if, you, cant, stand, the, heat, theres, alwa...\n",
      "1945    [in, december, 1974, this, former, new, york, ...\n",
      "Name: split_question, dtype: object\n",
      "1931    [john, mellencamp]\n",
      "1936          [valparaiso]\n",
      "1947           [churchill]\n",
      "1946      [steak, tartare]\n",
      "1945         [rockefeller]\n",
      "Name: split_answer, dtype: object\n"
     ]
    }
   ],
   "source": [
    "print(jeopardy.split_question.head())\n",
    "print(jeopardy.split_answer.head())"
   ]
  },
  {
   "cell_type": "markdown",
   "metadata": {},
   "source": [
    "Finally to get an idea over which subjects are best for someone focusing on studying for only the high-value questions, the number of occurrences will be analyzed for each group of questions. This will be done for the first five terms in `term_list` as an example."
   ]
  },
  {
   "cell_type": "code",
   "execution_count": 32,
   "metadata": {},
   "outputs": [
    {
     "name": "stdout",
     "output_type": "stream",
     "text": [
      "['alpine', 'bloomer', 'prestidigitation', 'marketed', 'obamas']\n",
      "12047\n",
      "7952\n"
     ]
    },
    {
     "data": {
      "text/plain": [
       "[Power_divergenceResult(statistic=1.3361664150114714, pvalue=0.24771116174632518),\n",
       " Power_divergenceResult(statistic=0.08752306839292578, pvalue=0.7673499986093351),\n",
       " Power_divergenceResult(statistic=1.5149647887323945, pvalue=0.2183830639074686),\n",
       " Power_divergenceResult(statistic=3.029929577464789, pvalue=0.0817415642907401),\n",
       " Power_divergenceResult(statistic=0.6600813480534574, pvalue=0.4165312258269849)]"
      ]
     },
     "execution_count": 32,
     "metadata": {},
     "output_type": "execute_result"
    }
   ],
   "source": [
    "comparison_terms = terms_list[:5]\n",
    "print(comparison_terms)\n",
    "\n",
    "observed_expected = []\n",
    "for item in comparison_terms:\n",
    "    high_count = jeopardy[jeopardy.high_value == 1].clean_question.str.contains(item).sum()\n",
    "    low_count = jeopardy[jeopardy.high_value == 0].clean_question.str.contains(item).sum()\n",
    "    observed_expected.append([high_count,low_count])\n",
    "observed_expected\n",
    "\n",
    "high_value_count, low_value_count = jeopardy.high_value.value_counts()[[0,1]]\n",
    "print(high_value_count)\n",
    "print(low_value_count)\n",
    "\n",
    "from scipy.stats import chisquare\n",
    "chi_squared = []\n",
    "for entry in observed_expected:\n",
    "    total = sum(entry)\n",
    "    total_prob = total / jeopardy.shape[0]\n",
    "    expected_high = total_prob * high_value_count\n",
    "    expected_low = total_prob * low_value_count\n",
    "    expected = np.array([expected_high, expected_low])\n",
    "    observed = np.array(entry)\n",
    "    chi_squared.append(chisquare(observed,expected))\n",
    "    \n",
    "chi_squared"
   ]
  },
  {
   "cell_type": "markdown",
   "metadata": {},
   "source": [
    "In total the chi_squared analysis showed that none of the terms seemed particularly useful to study."
   ]
  },
  {
   "cell_type": "markdown",
   "metadata": {},
   "source": [
    "# Summary\n",
    "\n",
    "In this project, past questions used in the show Jeopardy! Were analyzed with the intent of finding statistical anomalies in the data, that could be exploited when studying while preparing to be on the show.\n",
    "\n",
    "The analysis showed that about 70% of words with six or more letters are re-used in questions. This implies, that studying the subjects of past questions can be a useful tactic when preparing to be on the show."
   ]
  }
 ],
 "metadata": {
  "kernelspec": {
   "display_name": "Python 3",
   "language": "python",
   "name": "python3"
  },
  "language_info": {
   "codemirror_mode": {
    "name": "ipython",
    "version": 3
   },
   "file_extension": ".py",
   "mimetype": "text/x-python",
   "name": "python",
   "nbconvert_exporter": "python",
   "pygments_lexer": "ipython3",
   "version": "3.7.6"
  }
 },
 "nbformat": 4,
 "nbformat_minor": 1
}
